{
 "cells": [
  {
   "cell_type": "markdown",
   "metadata": {},
   "source": [
    "# Function\n",
    "### Print ชื่อ นามสกุล รหัส\n",
    "### Print เกรด วิชา stat 1 >> A"
   ]
  },
  {
   "cell_type": "code",
   "execution_count": 16,
   "metadata": {},
   "outputs": [
    {
     "name": "stdout",
     "output_type": "stream",
     "text": [
      "ชื่อ ศุภนิตา สกุล ดาดวน รหัส 603021129-1\n"
     ]
    }
   ],
   "source": [
    "q = 'ชื่อ ศุภนิตา สกุล ดาดวน รหัส 603021129-1'\n",
    "print(q)"
   ]
  },
  {
   "cell_type": "code",
   "execution_count": 2,
   "metadata": {},
   "outputs": [],
   "source": [
    "name = 'ศุภนิตา'\n",
    "surname = ' ดาดวน'\n",
    "ID = '603021129-1'\n",
    "x = f'=ชื่อ{name} นามสกุล {surname} รหัส {ID}'"
   ]
  },
  {
   "cell_type": "markdown",
   "metadata": {},
   "source": [
    "ชื่อ ศุภนิตา สกุล ดาดวน  รหัส 603021129-1"
   ]
  },
  {
   "cell_type": "markdown",
   "metadata": {},
   "source": [
    "~~~ python\n",
    " def function_name(x):\n",
    "        do something\n",
    "        return y\n",
    "~~~"
   ]
  },
  {
   "cell_type": "markdown",
   "metadata": {},
   "source": [
    "### normal function"
   ]
  },
  {
   "cell_type": "code",
   "execution_count": 14,
   "metadata": {},
   "outputs": [],
   "source": [
    "def print_line1(name1,surname1,ID1):\n",
    "    st = f'ชื่อ {name1} นามสกุล {surname1} รหัส {ID1}'\n",
    "    return st"
   ]
  },
  {
   "cell_type": "code",
   "execution_count": 15,
   "metadata": {},
   "outputs": [
    {
     "name": "stdout",
     "output_type": "stream",
     "text": [
      "ชื่อ ศุภนิตา นามสกุล ดาดวน รหัส 603021129-1\n"
     ]
    }
   ],
   "source": [
    "print(print_line1('ศุภนิตา','ดาดวน','603021129-1'))"
   ]
  },
  {
   "cell_type": "markdown",
   "metadata": {},
   "source": [
    "### function without output"
   ]
  },
  {
   "cell_type": "code",
   "execution_count": 17,
   "metadata": {},
   "outputs": [],
   "source": [
    "def print_twoline(name1,surname1,ID1,grade):\n",
    "    st1 = f'ชื่อ {name1} นามสกุล {surname1} รหัส {ID1}'\n",
    "    print (st1)\n",
    "    st2 = f'เกรดวิชา stat 1 >> {grade}'\n",
    "    print (st2)"
   ]
  },
  {
   "cell_type": "markdown",
   "metadata": {},
   "source": [
    "function พิเศษของ python คือไม่จำเป็นต้องมี input,output"
   ]
  },
  {
   "cell_type": "code",
   "execution_count": 25,
   "metadata": {},
   "outputs": [
    {
     "name": "stdout",
     "output_type": "stream",
     "text": [
      "ชื่อ nita นามสกุล D รหัส 603021129-1\n",
      "เกรดวิชา stat 1 >> A\n"
     ]
    }
   ],
   "source": [
    "print_twoline('ศุภนิตา','ดาดวน','603021129-1','A')"
   ]
  },
  {
   "cell_type": "code",
   "execution_count": 27,
   "metadata": {},
   "outputs": [
    {
     "name": "stdout",
     "output_type": "stream",
     "text": [
      "ชื่อ ทรงกลด นามสกุล อาจปา รหัส 603021864-1\n",
      "เกรดวิชา stat 1 >> A\n",
      "ชื่อ กัญญรินท์ นามสกุล อินทจันร์ รหัส 603021854-4\n",
      "เกรดวิชา stat 1 >> A\n",
      "ชื่อ ภูวนัตถ์ นามสกุล จันทกล รหัส 603021111-0\n",
      "เกรดวิชา stat 1 >> A\n"
     ]
    }
   ],
   "source": [
    "print_twoline('ทรงกลด','อาจปา','603021864-1','A')\n",
    "print_twoline('กัญญรินท์','อินทจันร์','603021854-4','A')\n",
    "print_twoline('ภูวนัตถ์','จันทกล','603021111-0','A')"
   ]
  },
  {
   "cell_type": "markdown",
   "metadata": {},
   "source": [
    "## Error can find in python"
   ]
  },
  {
   "cell_type": "code",
   "execution_count": 51,
   "metadata": {},
   "outputs": [
    {
     "ename": "IndentationError",
     "evalue": "unexpected indent (<ipython-input-51-c453093d49b7>, line 5)",
     "output_type": "error",
     "traceback": [
      "\u001b[1;36m  File \u001b[1;32m\"<ipython-input-51-c453093d49b7>\"\u001b[1;36m, line \u001b[1;32m5\u001b[0m\n\u001b[1;33m    print (st2)\u001b[0m\n\u001b[1;37m    ^\u001b[0m\n\u001b[1;31mIndentationError\u001b[0m\u001b[1;31m:\u001b[0m unexpected indent\n"
     ]
    }
   ],
   "source": [
    "def print_twoline(name1,surname1,ID1,grade):\n",
    "    st1 = f'ชื่อ {name1} นามสกุล {surname1} รหัส {ID1}'\n",
    "    print (st1)\n",
    "    st2 = f'เกรดวิชา stat 1 >> {grade}'\n",
    "     print (st2)"
   ]
  },
  {
   "cell_type": "markdown",
   "metadata": {},
   "source": [
    "IndentationError: unexpected indent (เว้นวรรคผิด )"
   ]
  },
  {
   "cell_type": "code",
   "execution_count": 30,
   "metadata": {},
   "outputs": [
    {
     "data": {
      "text/plain": [
       "'ชื่อ ศุภนิตา นามสกุล ดาดวน รหัส 603021129-1'"
      ]
     },
     "execution_count": 30,
     "metadata": {},
     "output_type": "execute_result"
    }
   ],
   "source": [
    "def print_twoline(name1,surname1,ID1,grade):\n",
    "    st1 = f'ชื่อ {name1} นามสกุล {surname1} รหัส {ID1}'\n",
    "    return st1\n",
    "    st2 = f'เกรดวิชา stat 1 >> {grade}'\n",
    "    print (st2)\n",
    "print_twoline('ศุภนิตา','ดาดวน','603021129-1','A')"
   ]
  },
  {
   "cell_type": "markdown",
   "metadata": {},
   "source": [
    "สั่งผิดและ function จบก่อน ปรินท์ เกรด"
   ]
  },
  {
   "cell_type": "markdown",
   "metadata": {},
   "source": [
    "### function without input"
   ]
  },
  {
   "cell_type": "code",
   "execution_count": 32,
   "metadata": {},
   "outputs": [
    {
     "data": {
      "text/plain": [
       "6"
      ]
     },
     "execution_count": 32,
     "metadata": {},
     "output_type": "execute_result"
    }
   ],
   "source": [
    "def noinput():\n",
    "    x =2*3\n",
    "    return x\n",
    "noinput()"
   ]
  },
  {
   "cell_type": "markdown",
   "metadata": {},
   "source": [
    "### function with defult argument"
   ]
  },
  {
   "cell_type": "code",
   "execution_count": 46,
   "metadata": {},
   "outputs": [],
   "source": [
    "def print_twoline_defult(name1,surname1,ID1,grade='F'):\n",
    "    st1 = f'ชื่อ {name1} นามสกุล {surname1} รหัส {ID1}'\n",
    "    print (st1)\n",
    "    st2 = f'เกรดวิชา stat 1 >> {grade}'\n",
    "    print (st2)"
   ]
  },
  {
   "cell_type": "code",
   "execution_count": 47,
   "metadata": {},
   "outputs": [
    {
     "name": "stdout",
     "output_type": "stream",
     "text": [
      "ชื่อ ศุภนิตา นามสกุล ดาดวน รหัส 603021129-1\n",
      "เกรดวิชา stat 1 >> F\n"
     ]
    }
   ],
   "source": [
    "print_twoline_defult('ศุภนิตา','ดาดวน','603021129-1')"
   ]
  },
  {
   "cell_type": "code",
   "execution_count": 48,
   "metadata": {},
   "outputs": [
    {
     "name": "stdout",
     "output_type": "stream",
     "text": [
      "ชื่อ ศุภนิตา นามสกุล ดาดวน รหัส 603021129-1\n",
      "เกรดวิชา stat 1 >> A\n"
     ]
    }
   ],
   "source": [
    "print_twoline_defult('ศุภนิตา','ดาดวน','603021129-1','A')"
   ]
  },
  {
   "cell_type": "markdown",
   "metadata": {},
   "source": [
    "สามารถสลับ output ได้ ถ้ารู้ว่า input คืออะไร"
   ]
  },
  {
   "cell_type": "code",
   "execution_count": 50,
   "metadata": {},
   "outputs": [
    {
     "name": "stdout",
     "output_type": "stream",
     "text": [
      "ชื่อ ศุภนิตา นามสกุล ดาดวน รหัส 603021129-1\n",
      "เกรดวิชา stat 1 >> F\n"
     ]
    }
   ],
   "source": [
    "print_twoline_defult(surname1 = 'ดาดวน' ,name1 = 'ศุภนิตา',ID1 = '603021129-1')"
   ]
  },
  {
   "cell_type": "markdown",
   "metadata": {},
   "source": [
    "### Loop(วนซ้ำ)"
   ]
  },
  {
   "cell_type": "markdown",
   "metadata": {},
   "source": [
    "```python\n",
    "for each_member in listx:\n",
    "    do something\n",
    "```"
   ]
  },
  {
   "cell_type": "code",
   "execution_count": 53,
   "metadata": {},
   "outputs": [
    {
     "name": "stdout",
     "output_type": "stream",
     "text": [
      "1\n",
      "2\n",
      "3\n"
     ]
    }
   ],
   "source": [
    "for i in[1,2,3]:\n",
    "    print (i)"
   ]
  },
  {
   "cell_type": "code",
   "execution_count": 55,
   "metadata": {},
   "outputs": [
    {
     "name": "stdout",
     "output_type": "stream",
     "text": [
      "s->/\n",
      "  \n",
      "u->/\n",
      "  \n",
      "p->/\n",
      "  \n",
      "a->/\n",
      "  \n",
      "n->/\n",
      "  \n",
      "i->/\n",
      "  \n",
      "t->/\n",
      "  \n",
      "a->/\n",
      "  \n"
     ]
    }
   ],
   "source": [
    "for i in'supanita':\n",
    "    print (f'{i}->/')\n",
    "    print ('  ')"
   ]
  },
  {
   "cell_type": "markdown",
   "metadata": {},
   "source": [
    "### loop in loop"
   ]
  },
  {
   "cell_type": "code",
   "execution_count": 174,
   "metadata": {},
   "outputs": [],
   "source": [
    "listme = ['บอส','นัท','ไอซ์','โด้','แบงค์','ไอซ์','ฟาง','เกต']"
   ]
  },
  {
   "cell_type": "code",
   "execution_count": 193,
   "metadata": {},
   "outputs": [],
   "source": [
    "def print_feeling(I,feel,friends):\n",
    "        print(f'{I} {feel} {friends}')"
   ]
  },
  {
   "cell_type": "code",
   "execution_count": 195,
   "metadata": {},
   "outputs": [
    {
     "name": "stdout",
     "output_type": "stream",
     "text": [
      "บอส luv บอส\n",
      "บอส luv นัท\n",
      "บอส luv ไอซ์\n",
      "บอส luv โด้\n",
      "บอส luv แบงค์\n",
      "บอส luv ไอซ์\n",
      "บอส luv ฟาง\n",
      "บอส luv เกต\n",
      "นัท luv บอส\n",
      "นัท luv นัท\n",
      "นัท luv ไอซ์\n",
      "นัท luv โด้\n",
      "นัท luv แบงค์\n",
      "นัท luv ไอซ์\n",
      "นัท luv ฟาง\n",
      "นัท luv เกต\n",
      "ไอซ์ luv บอส\n",
      "ไอซ์ luv นัท\n",
      "ไอซ์ luv ไอซ์\n",
      "ไอซ์ luv โด้\n",
      "ไอซ์ luv แบงค์\n",
      "ไอซ์ luv ไอซ์\n",
      "ไอซ์ luv ฟาง\n",
      "ไอซ์ luv เกต\n",
      "โด้ luv บอส\n",
      "โด้ luv นัท\n",
      "โด้ luv ไอซ์\n",
      "โด้ luv โด้\n",
      "โด้ luv แบงค์\n",
      "โด้ luv ไอซ์\n",
      "โด้ luv ฟาง\n",
      "โด้ luv เกต\n",
      "แบงค์ luv บอส\n",
      "แบงค์ luv นัท\n",
      "แบงค์ luv ไอซ์\n",
      "แบงค์ luv โด้\n",
      "แบงค์ luv แบงค์\n",
      "แบงค์ luv ไอซ์\n",
      "แบงค์ luv ฟาง\n",
      "แบงค์ luv เกต\n",
      "ไอซ์ luv บอส\n",
      "ไอซ์ luv นัท\n",
      "ไอซ์ luv ไอซ์\n",
      "ไอซ์ luv โด้\n",
      "ไอซ์ luv แบงค์\n",
      "ไอซ์ luv ไอซ์\n",
      "ไอซ์ luv ฟาง\n",
      "ไอซ์ luv เกต\n",
      "ฟาง luv บอส\n",
      "ฟาง luv นัท\n",
      "ฟาง luv ไอซ์\n",
      "ฟาง luv โด้\n",
      "ฟาง luv แบงค์\n",
      "ฟาง luv ไอซ์\n",
      "ฟาง luv ฟาง\n",
      "ฟาง luv เกต\n",
      "เกต luv บอส\n",
      "เกต luv นัท\n",
      "เกต luv ไอซ์\n",
      "เกต luv โด้\n",
      "เกต luv แบงค์\n",
      "เกต luv ไอซ์\n",
      "เกต luv ฟาง\n",
      "เกต luv เกต\n"
     ]
    }
   ],
   "source": [
    "for name1 in listme:\n",
    "    for name2 in listme:\n",
    "        print_feeling(name1,'luv',name2)"
   ]
  },
  {
   "cell_type": "markdown",
   "metadata": {},
   "source": [
    "## Excercise\n",
    "#### 1 สร้าง list ชื่อ เพื่อที่อยู่ในแถว(ยาว) เดียวกัน "
   ]
  },
  {
   "cell_type": "code",
   "execution_count": 60,
   "metadata": {},
   "outputs": [],
   "source": [
    "listme = ['บอส','นัท','ไอซ์','โด้','แบงค์','ไอซ์','ฟาง','เกต']"
   ]
  },
  {
   "cell_type": "markdown",
   "metadata": {},
   "source": [
    "#### 2 วนลูป print ประโยคว่า ชื่อเรา รัก เพื่อน"
   ]
  },
  {
   "cell_type": "code",
   "execution_count": 187,
   "metadata": {},
   "outputs": [
    {
     "name": "stdout",
     "output_type": "stream",
     "text": [
      "นกยูง มา บอส\n",
      "นกยูง มา นัท\n",
      "นกยูง มา ไอซ์\n",
      "นกยูง มา โด้\n",
      "นกยูง มา แบงค์\n",
      "นกยูง มา ไอซ์\n",
      "นกยูง มา ฟาง\n",
      "นกยูง มา เกต\n"
     ]
    }
   ],
   "source": [
    "for i in listme:\n",
    "    print (f'นกยูง มา {i}')"
   ]
  },
  {
   "cell_type": "markdown",
   "metadata": {},
   "source": [
    "## This is correct\n",
    "สร้าง output ออกมา"
   ]
  },
  {
   "cell_type": "code",
   "execution_count": 128,
   "metadata": {},
   "outputs": [
    {
     "name": "stdout",
     "output_type": "stream",
     "text": [
      "นกยูง รัก บอส\n"
     ]
    }
   ],
   "source": [
    "def printfeel(name,feel,friend):\n",
    "    s = f'{name} {feel} {friend}'\n",
    "    print (s)\n",
    "printfeel('นกยูง','รัก','บอส')"
   ]
  },
  {
   "cell_type": "markdown",
   "metadata": {},
   "source": [
    "สร้างลูปชื่อเพื่อน จาก listme"
   ]
  },
  {
   "cell_type": "code",
   "execution_count": 125,
   "metadata": {},
   "outputs": [
    {
     "name": "stdout",
     "output_type": "stream",
     "text": [
      "นกยูง รัก บอส\n",
      "นกยูง รัก นัท\n",
      "นกยูง รัก ไอซ์\n",
      "นกยูง รัก โด้\n",
      "นกยูง รัก แบงค์\n",
      "นกยูง รัก ไอซ์\n",
      "นกยูง รัก ฟาง\n",
      "นกยูง รัก เกต\n"
     ]
    }
   ],
   "source": [
    "for i in listme:\n",
    "    printfeel ('นกยูง','รัก',i)"
   ]
  },
  {
   "cell_type": "markdown",
   "metadata": {},
   "source": [
    "#### loop in function(by A.ton)"
   ]
  },
  {
   "cell_type": "code",
   "execution_count": 140,
   "metadata": {},
   "outputs": [],
   "source": [
    "def printfeeling1(name,feel,friend):\n",
    "    for i in friend:\n",
    "        print(f'{name} {feel} {i}')"
   ]
  },
  {
   "cell_type": "code",
   "execution_count": 142,
   "metadata": {},
   "outputs": [
    {
     "name": "stdout",
     "output_type": "stream",
     "text": [
      "นก รัก บอส\n",
      "นก รัก นัท\n",
      "นก รัก ไอซ์\n",
      "นก รัก โด้\n",
      "นก รัก แบงค์\n",
      "นก รัก ไอซ์\n",
      "นก รัก ฟาง\n",
      "นก รัก เกต\n"
     ]
    }
   ],
   "source": [
    "printfeeling1('นก','รัก',listme)"
   ]
  },
  {
   "cell_type": "code",
   "execution_count": 148,
   "metadata": {},
   "outputs": [],
   "source": [
    "def printfeeling2(name,feel,friend):\n",
    "    for i in ['บอส','นัท','ไอซ์','โด้','แบงค์','ไอซ์','ฟาง','เกต','yunki']:\n",
    "        print(f'{name} {feel} {i}')"
   ]
  },
  {
   "cell_type": "code",
   "execution_count": 152,
   "metadata": {},
   "outputs": [
    {
     "name": "stdout",
     "output_type": "stream",
     "text": [
      "นก มาหา บอส\n",
      "นก มาหา นัท\n",
      "นก มาหา ไอซ์\n",
      "นก มาหา โด้\n",
      "นก มาหา แบงค์\n",
      "นก มาหา ไอซ์\n",
      "นก มาหา ฟาง\n",
      "นก มาหา เกต\n",
      "นก มาหา yunki\n"
     ]
    }
   ],
   "source": [
    "printfeeling2('นก','มาหา',i)"
   ]
  },
  {
   "cell_type": "markdown",
   "metadata": {},
   "source": [
    "## loop in dict"
   ]
  },
  {
   "cell_type": "code",
   "execution_count": 167,
   "metadata": {},
   "outputs": [
    {
     "data": {
      "text/plain": [
       "{'No.1': 'B', 'No.2': 'C', 'No.3': 'A', 'No.4': 'F'}"
      ]
     },
     "execution_count": 167,
     "metadata": {},
     "output_type": "execute_result"
    }
   ],
   "source": [
    "name_G = {'No.1':'B','No.2':'C','No.3':'A','No.4':'F'}\n",
    "name_G"
   ]
  },
  {
   "cell_type": "code",
   "execution_count": 168,
   "metadata": {},
   "outputs": [
    {
     "data": {
      "text/plain": [
       "'C'"
      ]
     },
     "execution_count": 168,
     "metadata": {},
     "output_type": "execute_result"
    }
   ],
   "source": [
    "name_G['No.2']"
   ]
  },
  {
   "cell_type": "code",
   "execution_count": 169,
   "metadata": {},
   "outputs": [
    {
     "data": {
      "text/plain": [
       "dict_keys(['No.1', 'No.2', 'No.3', 'No.4'])"
      ]
     },
     "execution_count": 169,
     "metadata": {},
     "output_type": "execute_result"
    }
   ],
   "source": [
    "name_G.keys()"
   ]
  },
  {
   "cell_type": "code",
   "execution_count": 170,
   "metadata": {},
   "outputs": [
    {
     "name": "stdout",
     "output_type": "stream",
     "text": [
      "No.1\n",
      "No.2\n",
      "No.3\n",
      "No.4\n"
     ]
    }
   ],
   "source": [
    "for x in name_G.keys():\n",
    "    print (x)"
   ]
  },
  {
   "cell_type": "code",
   "execution_count": 173,
   "metadata": {},
   "outputs": [
    {
     "name": "stdout",
     "output_type": "stream",
     "text": [
      "No.1 ได้เกรด B\n",
      "No.2 ได้เกรด C\n",
      "No.3 ได้เกรด A\n",
      "No.4 ได้เกรด F\n"
     ]
    }
   ],
   "source": [
    "for x in name_G.keys():\n",
    "    print(f'{x} ได้เกรด {name_G[x]}')"
   ]
  },
  {
   "cell_type": "markdown",
   "metadata": {},
   "source": [
    "## Conditional(เงื่อนไข)"
   ]
  },
  {
   "cell_type": "markdown",
   "metadata": {},
   "source": [
    "``` python\n",
    "if condition1:\n",
    "    do something\n",
    "elif condition2:\n",
    "    do another thing\n",
    "else:\n",
    "    do last thing\n",
    "```\n",
    "### จากเรื่อง loop in loop"
   ]
  },
  {
   "cell_type": "code",
   "execution_count": 197,
   "metadata": {},
   "outputs": [],
   "source": [
    "Nita =['minYG','kimNJ','kimSJ','parkJM','jungHS','kimTH','joenJK']"
   ]
  },
  {
   "cell_type": "code",
   "execution_count": 198,
   "metadata": {},
   "outputs": [
    {
     "name": "stdout",
     "output_type": "stream",
     "text": [
      "minYG luv kimNJ\n",
      "minYG luv kimSJ\n",
      "minYG luv parkJM\n",
      "minYG luv jungHS\n",
      "minYG luv kimTH\n",
      "minYG luv joenJK\n",
      "kimNJ luv minYG\n",
      "kimNJ luv kimSJ\n",
      "kimNJ luv parkJM\n",
      "kimNJ luv jungHS\n",
      "kimNJ luv kimTH\n",
      "kimNJ luv joenJK\n",
      "kimSJ luv minYG\n",
      "kimSJ luv kimNJ\n",
      "kimSJ luv parkJM\n",
      "kimSJ luv jungHS\n",
      "kimSJ luv kimTH\n",
      "kimSJ luv joenJK\n",
      "parkJM luv minYG\n",
      "parkJM luv kimNJ\n",
      "parkJM luv kimSJ\n",
      "parkJM luv jungHS\n",
      "parkJM luv kimTH\n",
      "parkJM luv joenJK\n",
      "jungHS luv minYG\n",
      "jungHS luv kimNJ\n",
      "jungHS luv kimSJ\n",
      "jungHS luv parkJM\n",
      "jungHS luv kimTH\n",
      "jungHS luv joenJK\n",
      "kimTH luv minYG\n",
      "kimTH luv kimNJ\n",
      "kimTH luv kimSJ\n",
      "kimTH luv parkJM\n",
      "kimTH luv jungHS\n",
      "kimTH luv joenJK\n",
      "joenJK luv minYG\n",
      "joenJK luv kimNJ\n",
      "joenJK luv kimSJ\n",
      "joenJK luv parkJM\n",
      "joenJK luv jungHS\n",
      "joenJK luv kimTH\n"
     ]
    }
   ],
   "source": [
    "for name1 in Nita:\n",
    "    for name2 in Nita:\n",
    "        if name1 != name2:\n",
    "             print_feeling(name1,'luv',name2)"
   ]
  },
  {
   "cell_type": "markdown",
   "metadata": {},
   "source": [
    "#### การเช็คเงื่อนไข"
   ]
  },
  {
   "cell_type": "code",
   "execution_count": 199,
   "metadata": {},
   "outputs": [
    {
     "name": "stdout",
     "output_type": "stream",
     "text": [
      "Yes\n"
     ]
    }
   ],
   "source": [
    "if True:\n",
    "    print('Yes')\n",
    "if False:\n",
    "    print('No')"
   ]
  },
  {
   "cell_type": "markdown",
   "metadata": {},
   "source": [
    "ถ้าข้างหลังเป็นเท็จ จะเด้งออกไปเลย(ไม่ปรินท์) เช่น"
   ]
  },
  {
   "cell_type": "code",
   "execution_count": 200,
   "metadata": {},
   "outputs": [
    {
     "name": "stdout",
     "output_type": "stream",
     "text": [
      "No\n"
     ]
    }
   ],
   "source": [
    "if False:\n",
    "    print('Yes')\n",
    "else:\n",
    "    print('No')"
   ]
  },
  {
   "cell_type": "code",
   "execution_count": 202,
   "metadata": {},
   "outputs": [
    {
     "data": {
      "text/plain": [
       "True"
      ]
     },
     "execution_count": 202,
     "metadata": {},
     "output_type": "execute_result"
    }
   ],
   "source": [
    "1 == 1 "
   ]
  },
  {
   "cell_type": "code",
   "execution_count": 203,
   "metadata": {},
   "outputs": [
    {
     "name": "stdout",
     "output_type": "stream",
     "text": [
      "1=1\n"
     ]
    }
   ],
   "source": [
    "if 1 == 1:\n",
    "    print('1=1')"
   ]
  },
  {
   "cell_type": "markdown",
   "metadata": {},
   "source": [
    "``` python\n",
    "เครื่องหมายที่นิยมใช้กับ condition\n",
    "== checkว่าเท่ากันไหม ถ้าเท่ากันจะตอบว่าจริง(True)\n",
    "!= checkว่าไม่เท่ากันไหม ถ้าไม่เท่ากันจะตอบว่าจริง(True)\n",
    ">= checkว่ามากกว่าไหม\n",
    "<= checkว่าน้อยกว่าจริงไหม\n",
    ">,< checkว่าผ่านเงื่อนไขหรือเปล่า\n",
    "```"
   ]
  },
  {
   "cell_type": "markdown",
   "metadata": {},
   "source": [
    "## Assignment\n",
    "เขียน function ตัดเกรด โดยที่ input เป็นคะแนน0-100 output เป็นเกรดF-A\n",
    "< 50 F >=50 D\n",
    "\n",
    "input = [1,50,65,90,101,-5,49]"
   ]
  },
  {
   "cell_type": "code",
   "execution_count": 11,
   "metadata": {},
   "outputs": [],
   "source": [
    "gg = [1,50,65,90,101,-5,49]"
   ]
  },
  {
   "cell_type": "code",
   "execution_count": 12,
   "metadata": {},
   "outputs": [
    {
     "name": "stdout",
     "output_type": "stream",
     "text": [
      "Grade is F\n",
      "Grade is D\n",
      "Grade is C+\n",
      "Grade is A\n",
      "Grade is ERROR\n",
      "Grade is ERROR\n",
      "Grade is F\n"
     ]
    }
   ],
   "source": [
    "for a in gg:\n",
    "    if a > 100:\n",
    "        print ('Grade is ERROR')\n",
    "    elif a > 79:\n",
    "        print ('Grade is A')\n",
    "    elif a > 74:\n",
    "        print ('Grade is B+')\n",
    "    elif a > 69:\n",
    "        print ('Grade is B')\n",
    "    elif a > 64:\n",
    "        print ('Grade is C+')\n",
    "    elif a > 59:\n",
    "        print ('Grade is C+')\n",
    "    elif a > 54:\n",
    "        print ('Grade is D+')\n",
    "    elif a > 49:\n",
    "        print ('Grade is D')\n",
    "    elif a > 0:\n",
    "        print ('Grade is F')\n",
    "    else:\n",
    "        print ('Grade is ERROR')"
   ]
  },
  {
   "cell_type": "markdown",
   "metadata": {},
   "source": [
    "                                ~~~~~~~~~~ END ~~~~~~~~~~ "
   ]
  }
 ],
 "metadata": {
  "kernelspec": {
   "display_name": "Python 3",
   "language": "python",
   "name": "python3"
  },
  "language_info": {
   "codemirror_mode": {
    "name": "ipython",
    "version": 3
   },
   "file_extension": ".py",
   "mimetype": "text/x-python",
   "name": "python",
   "nbconvert_exporter": "python",
   "pygments_lexer": "ipython3",
   "version": "3.6.2"
  }
 },
 "nbformat": 4,
 "nbformat_minor": 2
}

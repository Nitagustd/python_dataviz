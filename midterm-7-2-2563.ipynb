{
 "cells": [
  {
   "cell_type": "markdown",
   "metadata": {},
   "source": [
    "# No.1\n",
    "#### สร้าง function name smartDict ทำหน้าที่\n",
    "> รับ input เป็น list 2 ตัวที่มีขนาดเท่ากัน โดย 1st list is number and 2nd list is text\n",
    "\n",
    "> ถ้า ค่าใน list เเรก เป็นเลขคี่ ให้ค่าใน dict ที่มี output เป็น key  เป็นค่าจาก list ตัวที่ 1 และ value จาก list ตัวที่ 2\n",
    "\n",
    "> ถ้า ค่าใน list เเรก เป็นเลขคู่ ให้ค่าใน dict ที่มี output เป็น key  เป็นค่าจาก list ตัวที่ 2 และ value จาก list ตัวที่ 1\n",
    "\n",
    "> output ของ function คือ dict ที่สร้างขึ้น\n",
    "\n",
    "เช่น\n",
    "output1 = smartDict([1,2,3],['apple','banana','orange'])\n",
    "จะได้ output 1 เป็น {1:'apple','banana':2,3:'orange'}"
   ]
  },
  {
   "cell_type": "code",
   "execution_count": 80,
   "metadata": {},
   "outputs": [],
   "source": [
    "def  smartDict(listnum,listtext):\n",
    "    q = listnum\n",
    "    f = {}\n",
    "    for i in range(len(listnum)):\n",
    "        if q == [1,3,5,7,9]:\n",
    "            f[listnum[i]] = listtext[i]\n",
    "        else:\n",
    "            f[listtext[i]] = listnum[i]\n",
    "    return(f)"
   ]
  },
  {
   "cell_type": "code",
   "execution_count": 81,
   "metadata": {},
   "outputs": [],
   "source": [
    "output1 = smartDict([1,2,3],['apple','banana','orange'])"
   ]
  },
  {
   "cell_type": "code",
   "execution_count": 82,
   "metadata": {},
   "outputs": [
    {
     "data": {
      "text/plain": [
       "{'apple': 1, 'banana': 2, 'orange': 3}"
      ]
     },
     "execution_count": 82,
     "metadata": {},
     "output_type": "execute_result"
    }
   ],
   "source": [
    "output1"
   ]
  },
  {
   "cell_type": "code",
   "execution_count": 83,
   "metadata": {},
   "outputs": [
    {
     "data": {
      "text/plain": [
       "{'A': 7, 'B': 1, 'C': 4, 'Zzz': 6}"
      ]
     },
     "execution_count": 83,
     "metadata": {},
     "output_type": "execute_result"
    }
   ],
   "source": [
    "smartDict([7,1,4,6],['A','B','C','Zzz'])"
   ]
  },
  {
   "cell_type": "markdown",
   "metadata": {},
   "source": [
    "# No.2\n",
    "#### จากไฟล์ Wuhan_nCoV_GNome.txt จงเขียนโปรแกรมเพื่อตอบคำถามต่อไปนี้\n",
    "> กรดอมิโนใดมีปริมาณมากที่สุดและมีเท่าไหร่\n",
    "\n",
    "> จงหา sequence ที่มีขนาด 3 และ 4 ที่เกิดซ้ำมากที่สุด"
   ]
  },
  {
   "cell_type": "code",
   "execution_count": 7,
   "metadata": {},
   "outputs": [],
   "source": [
    "import pandas as pd"
   ]
  },
  {
   "cell_type": "code",
   "execution_count": 8,
   "metadata": {},
   "outputs": [],
   "source": [
    "DNAseq = pd.read_csv('Wuhan_nCoV_GNome.txt',header = None)"
   ]
  },
  {
   "cell_type": "code",
   "execution_count": 9,
   "metadata": {},
   "outputs": [],
   "source": [
    "def countamino(seq,character):\n",
    "    countamino = 0\n",
    "    for i in seq :\n",
    "        if i == character :\n",
    "           countamino  = countamino + 1\n",
    "    return countamino"
   ]
  },
  {
   "cell_type": "code",
   "execution_count": 10,
   "metadata": {},
   "outputs": [
    {
     "name": "stdout",
     "output_type": "stream",
     "text": [
      "In table have number of A = 8954 ,T = 9594 ,G = 5863 ,C = 5492 \n"
     ]
    }
   ],
   "source": [
    "A = 0\n",
    "T = 0\n",
    "G = 0\n",
    "C = 0\n",
    "for i in range(DNAseq.shape[0]):\n",
    "    A += countamino(DNAseq.iloc[i][0],'A')\n",
    "    T += countamino(DNAseq.iloc[i][0],'T')\n",
    "    G += countamino(DNAseq.iloc[i][0],'G')\n",
    "    C += countamino(DNAseq.iloc[i][0],'C')\n",
    "print(f'In table have number of A = {A} ,T = {T} ,G = {G} ,C = {C} ')"
   ]
  },
  {
   "cell_type": "markdown",
   "metadata": {},
   "source": [
    "ANS amino T = 9594"
   ]
  },
  {
   "cell_type": "markdown",
   "metadata": {},
   "source": [
    "#### ขนาด 4 ที่ซำ้กันมากที่สุด"
   ]
  },
  {
   "cell_type": "code",
   "execution_count": 11,
   "metadata": {},
   "outputs": [],
   "source": [
    "def populate4char(seq):\n",
    "    str_list = list()\n",
    "    for i in range(len(seq)-3) :\n",
    "        str_list.append(seq[i:i+4])\n",
    "    return str_list"
   ]
  },
  {
   "cell_type": "code",
   "execution_count": 12,
   "metadata": {},
   "outputs": [],
   "source": [
    "list_all4char = list()\n",
    "for row in range(DNAseq.shape[0]):\n",
    "    list_all4char = list_all4char + populate4char(DNAseq.iloc[row][0])\n",
    "\n",
    "unique_4char = list(set(list_all4char))"
   ]
  },
  {
   "cell_type": "code",
   "execution_count": 13,
   "metadata": {},
   "outputs": [],
   "source": [
    "dict_4char = {}\n",
    "for sub_str in unique_4char :\n",
    "    num = 0\n",
    "    for s in list_all4char :\n",
    "        if sub_str == s :\n",
    "            num += 1\n",
    "    dict_4char[sub_str] = num"
   ]
  },
  {
   "cell_type": "code",
   "execution_count": 14,
   "metadata": {},
   "outputs": [
    {
     "name": "stdout",
     "output_type": "stream",
     "text": [
      "max 4-long-sequence is TGTT with frequency equals 318\n"
     ]
    }
   ],
   "source": [
    "maxV = 0\n",
    "maxK = None\n",
    "for k in dict_4char.keys():\n",
    "    if dict_4char[k] > maxV:\n",
    "        maxV = dict_4char[k]\n",
    "        maxK = k\n",
    "print(f'max 4-long-sequence is {maxK} with frequency equals {maxV}')"
   ]
  },
  {
   "cell_type": "markdown",
   "metadata": {},
   "source": [
    "#### ขนาด 3 ที่ซำ้กันมากที่สุด"
   ]
  },
  {
   "cell_type": "code",
   "execution_count": 15,
   "metadata": {},
   "outputs": [],
   "source": [
    "def populate3char(seq):\n",
    "    str_list = list()\n",
    "    for i in range(len(seq)-2) :\n",
    "        str_list.append(seq[i:i+3])\n",
    "    return str_list"
   ]
  },
  {
   "cell_type": "code",
   "execution_count": 16,
   "metadata": {},
   "outputs": [
    {
     "name": "stdout",
     "output_type": "stream",
     "text": [
      "max 3-long-sequence is TTT with frequency equals 984\n"
     ]
    }
   ],
   "source": [
    "list_all3char = list()\n",
    "for row in range(DNAseq.shape[0]):\n",
    "    list_all3char = list_all3char + populate3char(DNAseq.iloc[row][0])\n",
    "\n",
    "unique_3char = list(set(list_all3char))\n",
    "dict_3char = {}\n",
    "for sub_str in unique_3char :\n",
    "    num = 0\n",
    "    for s in list_all3char :\n",
    "        if sub_str == s :\n",
    "            num += 1\n",
    "    dict_3char[sub_str] = num\n",
    "maxV3 = 0\n",
    "maxK3 = None\n",
    "for x in dict_3char.keys():\n",
    "    if dict_3char[x] > maxV3:\n",
    "        maxV3 = dict_3char[x]\n",
    "        maxK3 = x\n",
    "print(f'max 3-long-sequence is {maxK3} with frequency equals {maxV3}')"
   ]
  },
  {
   "cell_type": "markdown",
   "metadata": {},
   "source": [
    "# No.3\n",
    "#### จากไฟล์ data.xlsx จงสร้างตารางใหม่\n",
    "> ที่มี 2 คอลลัมน์ โดยอันแรกชื่อว่า ภาษาอีสาน และมีค่าในคอลัมน์เดิมเปลี่ยนจาก '/' เป็น ',' และอันที่ 2 ชื่อว่า ภาษาไทย และมีค่าในคอลัมน์เดิมเปลี่ยนจาก '/' เป็น ',' \n",
    "\n",
    ">>เช่น\n",
    "        จากสวัสดี/สูผู้สุคน/เด้อ/จ้า  สวัสดี/ทุก ๆ คน/นะ/คะเป็นสวัสดี,สูผู้สุคน,เด้อ,จ้า  สวัสดี,ทุก ๆ คน,นะ,คะ\n",
    "\n",
    "> สร้าตาราง Dicttionary โดยตารางประกอบไปด้วย 2 columns คือภาษาอีสานและภาษาไทย ดดยค่าใน column ภาษษอีสาน คือคำในภาษาอีสาน และ column ภาษาไทยคือคำแปลที่เป็นภาษกลางของภาษอีสานใน column แรก(ข้าม record ที่จำนวน ค่าใน column ไม่เท่ากัน)"
   ]
  },
  {
   "cell_type": "code",
   "execution_count": 17,
   "metadata": {},
   "outputs": [],
   "source": [
    "import pandas as pd"
   ]
  },
  {
   "cell_type": "code",
   "execution_count": 18,
   "metadata": {},
   "outputs": [],
   "source": [
    "labels = ['ภาษาอีสาน' , 'ภาษาไทย']\n",
    "Dictionary = pd.DataFrame.from_records([],columns = labels)\n",
    "for v in range(32):\n",
    "    df = pd.read_excel('data.xlsx', sheet_name = v, usecols = 'B:C', skipfooter = 1)\n",
    "    Dictionary = pd.concat([Dictionary,df], axis = 0, ignore_index = True)"
   ]
  },
  {
   "cell_type": "code",
   "execution_count": 19,
   "metadata": {},
   "outputs": [],
   "source": [
    "df = df.dropna()"
   ]
  },
  {
   "cell_type": "code",
   "execution_count": 20,
   "metadata": {},
   "outputs": [
    {
     "data": {
      "text/html": [
       "<div>\n",
       "<style scoped>\n",
       "    .dataframe tbody tr th:only-of-type {\n",
       "        vertical-align: middle;\n",
       "    }\n",
       "\n",
       "    .dataframe tbody tr th {\n",
       "        vertical-align: top;\n",
       "    }\n",
       "\n",
       "    .dataframe thead th {\n",
       "        text-align: right;\n",
       "    }\n",
       "</style>\n",
       "<table border=\"1\" class=\"dataframe\">\n",
       "  <thead>\n",
       "    <tr style=\"text-align: right;\">\n",
       "      <th></th>\n",
       "      <th>ภาษาอีสาน</th>\n",
       "      <th>ภาษาไทย</th>\n",
       "    </tr>\n",
       "  </thead>\n",
       "  <tbody>\n",
       "    <tr>\n",
       "      <th>0</th>\n",
       "      <td>สวัสดี/สุผู้สุคน/เด้อ/จ้า</td>\n",
       "      <td>สวัสดี/ทุก ๆ คน/นะ/คะ</td>\n",
       "    </tr>\n",
       "    <tr>\n",
       "      <th>1</th>\n",
       "      <td>กิน/ข้าว/ก่อน/เด้อ/จ้า/ ไผ/สิ/ถ่า/เค้า/ดาวน์</td>\n",
       "      <td>กิน/ข้าว/ก่อน/นะ/จ้ะ/ใคร/จะ/รอ/เค้า/ดาวน์</td>\n",
       "    </tr>\n",
       "    <tr>\n",
       "      <th>2</th>\n",
       "      <td>เค้า/ดาว/กะ/ขอ/ให้/เค้า/ดาว/อย่าง/มี/ความ/สุข/...</td>\n",
       "      <td>เค้า/ดาวน์/ก็/ขอ/ให้/เค้า/ดาน์/อย่าง/มี/ความ/ส...</td>\n",
       "    </tr>\n",
       "    <tr>\n",
       "      <th>3</th>\n",
       "      <td>นี่/จ้า/อา/หาร/เย็น/เป็น/ลา/ซาน/ย่า/กับ/ผัก/สด...</td>\n",
       "      <td>นี่/จ้า/อา/หาร/เย็น/เป็น/ลา/ซาน/ย่า/กับ/ผัก/สด...</td>\n",
       "    </tr>\n",
       "    <tr>\n",
       "      <th>4</th>\n",
       "      <td>ขอ/ให้/เชิญ/แซ่บ/เด้อ/พี่/น้อง</td>\n",
       "      <td>ขอ/ให้/เชิญ/อร่อย/นะ/ทุก/คน</td>\n",
       "    </tr>\n",
       "    <tr>\n",
       "      <th>...</th>\n",
       "      <td>...</td>\n",
       "      <td>...</td>\n",
       "    </tr>\n",
       "    <tr>\n",
       "      <th>970</th>\n",
       "      <td>นั่น/แหละ/คุย/กัน/ไป่/อูย/คุย/กัน/ไป่/เป็น/ปี/...</td>\n",
       "      <td>นั้น/แหละ/คุย/กัน/ไป/อูย/คุย/กัน/ไป/เป็น/ปี/อย...</td>\n",
       "    </tr>\n",
       "    <tr>\n",
       "      <th>971</th>\n",
       "      <td>กะ/เล๊ย/แบบ/ชี/วิต/ชวง/นั่น/แบบ/สิ/เอา/จัง/ได๋...</td>\n",
       "      <td>ก็/เลย/แบบ/ชี/วิต/ช่วง/นั้น/แบบ/จะ/เอา/ยัง/ไง/...</td>\n",
       "    </tr>\n",
       "    <tr>\n",
       "      <th>972</th>\n",
       "      <td>เส็ด/แล่ว/กะ/เล๊ย/อ่า/เพิ่น/เซิน/ปะ/เออ/เซิน/ม...</td>\n",
       "      <td>เสร็จ/แล้ว/ก็/เลย/อ่า/เขา/เชิญ/ปะ/เออ/เชิญ/มา/...</td>\n",
       "    </tr>\n",
       "    <tr>\n",
       "      <th>973</th>\n",
       "      <td>ซวง/นั่น/ข่อย/กะ/เขว/เนาะ/จ้า/สิ/ไป่/ตอ/หรือ/ส...</td>\n",
       "      <td>ช่วง/นั้น/ฉัน/ก็/เคว้ง/อ่ะ/ค่ะ/จะ/ไป/ต่อ/หรือ/...</td>\n",
       "    </tr>\n",
       "    <tr>\n",
       "      <th>974</th>\n",
       "      <td>ข่อย/กะ/เล๊ย/ตัด/สิน/ใจ/กั๊บ/มู/หว่า/เออ/ข่อย/...</td>\n",
       "      <td>ฉัน/ก็/เลย/ตัด/สิน/ใจ/กับ/เพื่อน/ว่า/เออ/ฉัน/จ...</td>\n",
       "    </tr>\n",
       "  </tbody>\n",
       "</table>\n",
       "<p>975 rows × 2 columns</p>\n",
       "</div>"
      ],
      "text/plain": [
       "                                             ภาษาอีสาน  \\\n",
       "0                            สวัสดี/สุผู้สุคน/เด้อ/จ้า   \n",
       "1         กิน/ข้าว/ก่อน/เด้อ/จ้า/ ไผ/สิ/ถ่า/เค้า/ดาวน์   \n",
       "2    เค้า/ดาว/กะ/ขอ/ให้/เค้า/ดาว/อย่าง/มี/ความ/สุข/...   \n",
       "3    นี่/จ้า/อา/หาร/เย็น/เป็น/ลา/ซาน/ย่า/กับ/ผัก/สด...   \n",
       "4                       ขอ/ให้/เชิญ/แซ่บ/เด้อ/พี่/น้อง   \n",
       "..                                                 ...   \n",
       "970  นั่น/แหละ/คุย/กัน/ไป่/อูย/คุย/กัน/ไป่/เป็น/ปี/...   \n",
       "971  กะ/เล๊ย/แบบ/ชี/วิต/ชวง/นั่น/แบบ/สิ/เอา/จัง/ได๋...   \n",
       "972  เส็ด/แล่ว/กะ/เล๊ย/อ่า/เพิ่น/เซิน/ปะ/เออ/เซิน/ม...   \n",
       "973  ซวง/นั่น/ข่อย/กะ/เขว/เนาะ/จ้า/สิ/ไป่/ตอ/หรือ/ส...   \n",
       "974  ข่อย/กะ/เล๊ย/ตัด/สิน/ใจ/กั๊บ/มู/หว่า/เออ/ข่อย/...   \n",
       "\n",
       "                                               ภาษาไทย  \n",
       "0                                สวัสดี/ทุก ๆ คน/นะ/คะ  \n",
       "1            กิน/ข้าว/ก่อน/นะ/จ้ะ/ใคร/จะ/รอ/เค้า/ดาวน์  \n",
       "2    เค้า/ดาวน์/ก็/ขอ/ให้/เค้า/ดาน์/อย่าง/มี/ความ/ส...  \n",
       "3    นี่/จ้า/อา/หาร/เย็น/เป็น/ลา/ซาน/ย่า/กับ/ผัก/สด...  \n",
       "4                          ขอ/ให้/เชิญ/อร่อย/นะ/ทุก/คน  \n",
       "..                                                 ...  \n",
       "970  นั้น/แหละ/คุย/กัน/ไป/อูย/คุย/กัน/ไป/เป็น/ปี/อย...  \n",
       "971  ก็/เลย/แบบ/ชี/วิต/ช่วง/นั้น/แบบ/จะ/เอา/ยัง/ไง/...  \n",
       "972  เสร็จ/แล้ว/ก็/เลย/อ่า/เขา/เชิญ/ปะ/เออ/เชิญ/มา/...  \n",
       "973  ช่วง/นั้น/ฉัน/ก็/เคว้ง/อ่ะ/ค่ะ/จะ/ไป/ต่อ/หรือ/...  \n",
       "974  ฉัน/ก็/เลย/ตัด/สิน/ใจ/กับ/เพื่อน/ว่า/เออ/ฉัน/จ...  \n",
       "\n",
       "[975 rows x 2 columns]"
      ]
     },
     "execution_count": 20,
     "metadata": {},
     "output_type": "execute_result"
    }
   ],
   "source": [
    "Dictionary"
   ]
  },
  {
   "cell_type": "code",
   "execution_count": 21,
   "metadata": {},
   "outputs": [],
   "source": [
    "col1_new = list()\n",
    "for i in range(Dictionary.shape[0]) :\n",
    "    col1_new.append(Dictionary.iloc[i]['ภาษาอีสาน'].replace('/', ','))\n",
    "col2_new = list()\n",
    "for i in range(Dictionary.shape[0]) :\n",
    "    col2_new.append(Dictionary.iloc[i]['ภาษาไทย'].replace('/', ','))"
   ]
  },
  {
   "cell_type": "code",
   "execution_count": 22,
   "metadata": {},
   "outputs": [],
   "source": [
    "Dictionary['ภาษาอีสาน'] = col1_new\n",
    "Dictionary['ภาษาไทย'] = col2_new"
   ]
  },
  {
   "cell_type": "code",
   "execution_count": 23,
   "metadata": {},
   "outputs": [
    {
     "data": {
      "text/html": [
       "<div>\n",
       "<style scoped>\n",
       "    .dataframe tbody tr th:only-of-type {\n",
       "        vertical-align: middle;\n",
       "    }\n",
       "\n",
       "    .dataframe tbody tr th {\n",
       "        vertical-align: top;\n",
       "    }\n",
       "\n",
       "    .dataframe thead th {\n",
       "        text-align: right;\n",
       "    }\n",
       "</style>\n",
       "<table border=\"1\" class=\"dataframe\">\n",
       "  <thead>\n",
       "    <tr style=\"text-align: right;\">\n",
       "      <th></th>\n",
       "      <th>ภาษาอีสาน</th>\n",
       "      <th>ภาษาไทย</th>\n",
       "    </tr>\n",
       "  </thead>\n",
       "  <tbody>\n",
       "    <tr>\n",
       "      <th>0</th>\n",
       "      <td>สวัสดี,สุผู้สุคน,เด้อ,จ้า</td>\n",
       "      <td>สวัสดี,ทุก ๆ คน,นะ,คะ</td>\n",
       "    </tr>\n",
       "    <tr>\n",
       "      <th>1</th>\n",
       "      <td>กิน,ข้าว,ก่อน,เด้อ,จ้า, ไผ,สิ,ถ่า,เค้า,ดาวน์</td>\n",
       "      <td>กิน,ข้าว,ก่อน,นะ,จ้ะ,ใคร,จะ,รอ,เค้า,ดาวน์</td>\n",
       "    </tr>\n",
       "    <tr>\n",
       "      <th>2</th>\n",
       "      <td>เค้า,ดาว,กะ,ขอ,ให้,เค้า,ดาว,อย่าง,มี,ความ,สุข,...</td>\n",
       "      <td>เค้า,ดาวน์,ก็,ขอ,ให้,เค้า,ดาน์,อย่าง,มี,ความ,ส...</td>\n",
       "    </tr>\n",
       "    <tr>\n",
       "      <th>3</th>\n",
       "      <td>นี่,จ้า,อา,หาร,เย็น,เป็น,ลา,ซาน,ย่า,กับ,ผัก,สด...</td>\n",
       "      <td>นี่,จ้า,อา,หาร,เย็น,เป็น,ลา,ซาน,ย่า,กับ,ผัก,สด...</td>\n",
       "    </tr>\n",
       "    <tr>\n",
       "      <th>4</th>\n",
       "      <td>ขอ,ให้,เชิญ,แซ่บ,เด้อ,พี่,น้อง</td>\n",
       "      <td>ขอ,ให้,เชิญ,อร่อย,นะ,ทุก,คน</td>\n",
       "    </tr>\n",
       "    <tr>\n",
       "      <th>...</th>\n",
       "      <td>...</td>\n",
       "      <td>...</td>\n",
       "    </tr>\n",
       "    <tr>\n",
       "      <th>970</th>\n",
       "      <td>นั่น,แหละ,คุย,กัน,ไป่,อูย,คุย,กัน,ไป่,เป็น,ปี,...</td>\n",
       "      <td>นั้น,แหละ,คุย,กัน,ไป,อูย,คุย,กัน,ไป,เป็น,ปี,อย...</td>\n",
       "    </tr>\n",
       "    <tr>\n",
       "      <th>971</th>\n",
       "      <td>กะ,เล๊ย,แบบ,ชี,วิต,ชวง,นั่น,แบบ,สิ,เอา,จัง,ได๋...</td>\n",
       "      <td>ก็,เลย,แบบ,ชี,วิต,ช่วง,นั้น,แบบ,จะ,เอา,ยัง,ไง,...</td>\n",
       "    </tr>\n",
       "    <tr>\n",
       "      <th>972</th>\n",
       "      <td>เส็ด,แล่ว,กะ,เล๊ย,อ่า,เพิ่น,เซิน,ปะ,เออ,เซิน,ม...</td>\n",
       "      <td>เสร็จ,แล้ว,ก็,เลย,อ่า,เขา,เชิญ,ปะ,เออ,เชิญ,มา,...</td>\n",
       "    </tr>\n",
       "    <tr>\n",
       "      <th>973</th>\n",
       "      <td>ซวง,นั่น,ข่อย,กะ,เขว,เนาะ,จ้า,สิ,ไป่,ตอ,หรือ,ส...</td>\n",
       "      <td>ช่วง,นั้น,ฉัน,ก็,เคว้ง,อ่ะ,ค่ะ,จะ,ไป,ต่อ,หรือ,...</td>\n",
       "    </tr>\n",
       "    <tr>\n",
       "      <th>974</th>\n",
       "      <td>ข่อย,กะ,เล๊ย,ตัด,สิน,ใจ,กั๊บ,มู,หว่า,เออ,ข่อย,...</td>\n",
       "      <td>ฉัน,ก็,เลย,ตัด,สิน,ใจ,กับ,เพื่อน,ว่า,เออ,ฉัน,จ...</td>\n",
       "    </tr>\n",
       "  </tbody>\n",
       "</table>\n",
       "<p>975 rows × 2 columns</p>\n",
       "</div>"
      ],
      "text/plain": [
       "                                             ภาษาอีสาน  \\\n",
       "0                            สวัสดี,สุผู้สุคน,เด้อ,จ้า   \n",
       "1         กิน,ข้าว,ก่อน,เด้อ,จ้า, ไผ,สิ,ถ่า,เค้า,ดาวน์   \n",
       "2    เค้า,ดาว,กะ,ขอ,ให้,เค้า,ดาว,อย่าง,มี,ความ,สุข,...   \n",
       "3    นี่,จ้า,อา,หาร,เย็น,เป็น,ลา,ซาน,ย่า,กับ,ผัก,สด...   \n",
       "4                       ขอ,ให้,เชิญ,แซ่บ,เด้อ,พี่,น้อง   \n",
       "..                                                 ...   \n",
       "970  นั่น,แหละ,คุย,กัน,ไป่,อูย,คุย,กัน,ไป่,เป็น,ปี,...   \n",
       "971  กะ,เล๊ย,แบบ,ชี,วิต,ชวง,นั่น,แบบ,สิ,เอา,จัง,ได๋...   \n",
       "972  เส็ด,แล่ว,กะ,เล๊ย,อ่า,เพิ่น,เซิน,ปะ,เออ,เซิน,ม...   \n",
       "973  ซวง,นั่น,ข่อย,กะ,เขว,เนาะ,จ้า,สิ,ไป่,ตอ,หรือ,ส...   \n",
       "974  ข่อย,กะ,เล๊ย,ตัด,สิน,ใจ,กั๊บ,มู,หว่า,เออ,ข่อย,...   \n",
       "\n",
       "                                               ภาษาไทย  \n",
       "0                                สวัสดี,ทุก ๆ คน,นะ,คะ  \n",
       "1            กิน,ข้าว,ก่อน,นะ,จ้ะ,ใคร,จะ,รอ,เค้า,ดาวน์  \n",
       "2    เค้า,ดาวน์,ก็,ขอ,ให้,เค้า,ดาน์,อย่าง,มี,ความ,ส...  \n",
       "3    นี่,จ้า,อา,หาร,เย็น,เป็น,ลา,ซาน,ย่า,กับ,ผัก,สด...  \n",
       "4                          ขอ,ให้,เชิญ,อร่อย,นะ,ทุก,คน  \n",
       "..                                                 ...  \n",
       "970  นั้น,แหละ,คุย,กัน,ไป,อูย,คุย,กัน,ไป,เป็น,ปี,อย...  \n",
       "971  ก็,เลย,แบบ,ชี,วิต,ช่วง,นั้น,แบบ,จะ,เอา,ยัง,ไง,...  \n",
       "972  เสร็จ,แล้ว,ก็,เลย,อ่า,เขา,เชิญ,ปะ,เออ,เชิญ,มา,...  \n",
       "973  ช่วง,นั้น,ฉัน,ก็,เคว้ง,อ่ะ,ค่ะ,จะ,ไป,ต่อ,หรือ,...  \n",
       "974  ฉัน,ก็,เลย,ตัด,สิน,ใจ,กับ,เพื่อน,ว่า,เออ,ฉัน,จ...  \n",
       "\n",
       "[975 rows x 2 columns]"
      ]
     },
     "execution_count": 23,
     "metadata": {},
     "output_type": "execute_result"
    }
   ],
   "source": [
    "Dictionary"
   ]
  },
  {
   "cell_type": "code",
   "execution_count": null,
   "metadata": {},
   "outputs": [],
   "source": []
  },
  {
   "cell_type": "code",
   "execution_count": null,
   "metadata": {},
   "outputs": [],
   "source": []
  }
 ],
 "metadata": {
  "kernelspec": {
   "display_name": "Python 3",
   "language": "python",
   "name": "python3"
  },
  "language_info": {
   "codemirror_mode": {
    "name": "ipython",
    "version": 3
   },
   "file_extension": ".py",
   "mimetype": "text/x-python",
   "name": "python",
   "nbconvert_exporter": "python",
   "pygments_lexer": "ipython3",
   "version": "3.7.4"
  }
 },
 "nbformat": 4,
 "nbformat_minor": 2
}

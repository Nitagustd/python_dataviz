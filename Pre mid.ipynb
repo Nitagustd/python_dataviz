{
 "cells": [
  {
   "cell_type": "code",
   "execution_count": 1,
   "metadata": {},
   "outputs": [],
   "source": [
    "import pandas as pd"
   ]
  },
  {
   "cell_type": "markdown",
   "metadata": {},
   "source": [
    "ข้อ 1\n",
    "สร้าง function ชื่อ createDict ซึ่งทำหน้าที่:\n",
    "- function รับ input เป็น list 2 ตัวที่มีขนาดเท่ากัน และ ค่า True/False\n",
    "- ถ้า True จะสร้าง dict ที่มี key(index) เป็นค่าจาก list ตัวที่ 1 และ value จาก list ตัวที่ 2\n",
    "    if TF == True: same as if TF:\n",
    "- ถ้า False จะสร้าง dict ที่มี key เป็นค่าจาก list ตัวที่ 2 และ value จาก list ตัวที่ 1\n",
    "- output ของ function คือ dict ที่สร้างขึ้น\n",
    "\n",
    "เช่น\n",
    "\n",
    "output1 = createDict( [ 'apple' , 'banana' ] , [ 1 , 2 ] , True )\n",
    "\n",
    "จะได้ output1 เป็น { 'apple' : 1 , 'banana' : 2 }\n",
    "\n",
    "output2 = createDict( [ 'apple' , 'banana' ] , [ 1 , 2 ] , False )\n",
    "\n",
    "จะได้ output2 เป็น { 1 : 'apple' , 2 : 'banana' }"
   ]
  },
  {
   "cell_type": "code",
   "execution_count": 8,
   "metadata": {},
   "outputs": [],
   "source": [
    "def CreateDict(listtext,listnum,TF):\n",
    "    if TF == True:\n",
    "        em_dict = {}\n",
    "        for index in range(len(listtext)):\n",
    "            em_dict[listtext[index]] = listnum[index]\n",
    "    else:\n",
    "        em_dict = {}\n",
    "        for index in range(len(listtext)):\n",
    "            em_dict[listnum[index]] = listtext[index]\n",
    "    return em_dict"
   ]
  },
  {
   "cell_type": "code",
   "execution_count": 10,
   "metadata": {},
   "outputs": [
    {
     "data": {
      "text/plain": [
       "{1: 'apple', 2: 'banana'}"
      ]
     },
     "execution_count": 10,
     "metadata": {},
     "output_type": "execute_result"
    }
   ],
   "source": [
    "CreateDict(['apple','banana'],[1,2],True)"
   ]
  },
  {
   "cell_type": "code",
   "execution_count": 11,
   "metadata": {},
   "outputs": [
    {
     "data": {
      "text/plain": [
       "{1: 'apple', 2: 'banana'}"
      ]
     },
     "execution_count": 11,
     "metadata": {},
     "output_type": "execute_result"
    }
   ],
   "source": [
    "CreateDict(['apple','banana'],[1,2],False)"
   ]
  },
  {
   "cell_type": "markdown",
   "metadata": {},
   "source": [
    "ข้อ 2 สร้าง function ชื่อ genPassword สำหรับสร้าง list ของ password:\n",
    "\n",
    "- function รับค่า input เป็น ความยาวของ password และ จำนวนของ password\n",
    "- output เป็น list ของ password ที่สร้างขึ้น\n",
    "- เงื่อนไขการสร้าง password คือ ต้องเป็นตัวอักษรภาษาอังกฤษตัวเล็กสลับตัวเลข โดยเป็นค่าที่ถูก random มา \n",
    "\n",
    "ตัวอย่างเช่น\n",
    "\n",
    "output = genPassword( 8 , 3 )\n",
    "\n",
    "จะได้ผลลัพธ์ เช่น [ 'n3k2p8z6' , 'g5h4f2h2' , 'b9c3t4h9' ]"
   ]
  },
  {
   "cell_type": "code",
   "execution_count": null,
   "metadata": {},
   "outputs": [],
   "source": [
    "def genPassword(lenp,nump)\n"
   ]
  }
 ],
 "metadata": {
  "kernelspec": {
   "display_name": "Python 3",
   "language": "python",
   "name": "python3"
  },
  "language_info": {
   "codemirror_mode": {
    "name": "ipython",
    "version": 3
   },
   "file_extension": ".py",
   "mimetype": "text/x-python",
   "name": "python",
   "nbconvert_exporter": "python",
   "pygments_lexer": "ipython3",
   "version": "3.7.4"
  }
 },
 "nbformat": 4,
 "nbformat_minor": 2
}
